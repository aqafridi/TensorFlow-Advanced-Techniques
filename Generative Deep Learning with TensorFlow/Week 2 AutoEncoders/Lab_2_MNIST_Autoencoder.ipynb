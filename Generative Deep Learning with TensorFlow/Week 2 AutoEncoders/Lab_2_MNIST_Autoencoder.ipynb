{
  "nbformat": 4,
  "nbformat_minor": 0,
  "metadata": {
    "colab": {
      "name": "Lab_2_MNIST_Autoencoder.ipynb",
      "provenance": [],
      "collapsed_sections": []
    },
    "kernelspec": {
      "name": "python3",
      "display_name": "Python 3"
    },
    "accelerator": "GPU",
    "widgets": {
      "application/vnd.jupyter.widget-state+json": {
        "0f23b51c805146e59ca9ea9a79893ab6": {
          "model_module": "@jupyter-widgets/controls",
          "model_name": "HBoxModel",
          "model_module_version": "1.5.0",
          "state": {
            "_view_name": "HBoxView",
            "_dom_classes": [],
            "_model_name": "HBoxModel",
            "_view_module": "@jupyter-widgets/controls",
            "_model_module_version": "1.5.0",
            "_view_count": null,
            "_view_module_version": "1.5.0",
            "box_style": "",
            "layout": "IPY_MODEL_3b7e050e4ce94f53aeb029bfea3129ef",
            "_model_module": "@jupyter-widgets/controls",
            "children": [
              "IPY_MODEL_fef1bf6b764144789f6ee2150fa54833",
              "IPY_MODEL_b0fdb76a39c44bcea6fce92eb32b5d3e"
            ]
          }
        },
        "3b7e050e4ce94f53aeb029bfea3129ef": {
          "model_module": "@jupyter-widgets/base",
          "model_name": "LayoutModel",
          "model_module_version": "1.2.0",
          "state": {
            "_view_name": "LayoutView",
            "grid_template_rows": null,
            "right": null,
            "justify_content": null,
            "_view_module": "@jupyter-widgets/base",
            "overflow": null,
            "_model_module_version": "1.2.0",
            "_view_count": null,
            "flex_flow": null,
            "width": null,
            "min_width": null,
            "border": null,
            "align_items": null,
            "bottom": null,
            "_model_module": "@jupyter-widgets/base",
            "top": null,
            "grid_column": null,
            "overflow_y": null,
            "overflow_x": null,
            "grid_auto_flow": null,
            "grid_area": null,
            "grid_template_columns": null,
            "flex": null,
            "_model_name": "LayoutModel",
            "justify_items": null,
            "grid_row": null,
            "max_height": null,
            "align_content": null,
            "visibility": null,
            "align_self": null,
            "height": null,
            "min_height": null,
            "padding": null,
            "grid_auto_rows": null,
            "grid_gap": null,
            "max_width": null,
            "order": null,
            "_view_module_version": "1.2.0",
            "grid_template_areas": null,
            "object_position": null,
            "object_fit": null,
            "grid_auto_columns": null,
            "margin": null,
            "display": null,
            "left": null
          }
        },
        "fef1bf6b764144789f6ee2150fa54833": {
          "model_module": "@jupyter-widgets/controls",
          "model_name": "FloatProgressModel",
          "model_module_version": "1.5.0",
          "state": {
            "_view_name": "ProgressView",
            "style": "IPY_MODEL_18381e02de9840c0be7b17b8f01c1d4e",
            "_dom_classes": [],
            "description": "Dl Completed...: 100%",
            "_model_name": "FloatProgressModel",
            "bar_style": "success",
            "max": 4,
            "_view_module": "@jupyter-widgets/controls",
            "_model_module_version": "1.5.0",
            "value": 4,
            "_view_count": null,
            "_view_module_version": "1.5.0",
            "orientation": "horizontal",
            "min": 0,
            "description_tooltip": null,
            "_model_module": "@jupyter-widgets/controls",
            "layout": "IPY_MODEL_00463ebf5c914f62adfed3e3e2ef7163"
          }
        },
        "b0fdb76a39c44bcea6fce92eb32b5d3e": {
          "model_module": "@jupyter-widgets/controls",
          "model_name": "HTMLModel",
          "model_module_version": "1.5.0",
          "state": {
            "_view_name": "HTMLView",
            "style": "IPY_MODEL_bd88d54f303841328ee1f9963d95a8d7",
            "_dom_classes": [],
            "description": "",
            "_model_name": "HTMLModel",
            "placeholder": "​",
            "_view_module": "@jupyter-widgets/controls",
            "_model_module_version": "1.5.0",
            "value": " 4/4 [00:06&lt;00:00,  1.66s/ file]",
            "_view_count": null,
            "_view_module_version": "1.5.0",
            "description_tooltip": null,
            "_model_module": "@jupyter-widgets/controls",
            "layout": "IPY_MODEL_fa3e56bd281d41fab7df01c5d503cfbb"
          }
        },
        "18381e02de9840c0be7b17b8f01c1d4e": {
          "model_module": "@jupyter-widgets/controls",
          "model_name": "ProgressStyleModel",
          "model_module_version": "1.5.0",
          "state": {
            "_view_name": "StyleView",
            "_model_name": "ProgressStyleModel",
            "description_width": "initial",
            "_view_module": "@jupyter-widgets/base",
            "_model_module_version": "1.5.0",
            "_view_count": null,
            "_view_module_version": "1.2.0",
            "bar_color": null,
            "_model_module": "@jupyter-widgets/controls"
          }
        },
        "00463ebf5c914f62adfed3e3e2ef7163": {
          "model_module": "@jupyter-widgets/base",
          "model_name": "LayoutModel",
          "model_module_version": "1.2.0",
          "state": {
            "_view_name": "LayoutView",
            "grid_template_rows": null,
            "right": null,
            "justify_content": null,
            "_view_module": "@jupyter-widgets/base",
            "overflow": null,
            "_model_module_version": "1.2.0",
            "_view_count": null,
            "flex_flow": null,
            "width": null,
            "min_width": null,
            "border": null,
            "align_items": null,
            "bottom": null,
            "_model_module": "@jupyter-widgets/base",
            "top": null,
            "grid_column": null,
            "overflow_y": null,
            "overflow_x": null,
            "grid_auto_flow": null,
            "grid_area": null,
            "grid_template_columns": null,
            "flex": null,
            "_model_name": "LayoutModel",
            "justify_items": null,
            "grid_row": null,
            "max_height": null,
            "align_content": null,
            "visibility": null,
            "align_self": null,
            "height": null,
            "min_height": null,
            "padding": null,
            "grid_auto_rows": null,
            "grid_gap": null,
            "max_width": null,
            "order": null,
            "_view_module_version": "1.2.0",
            "grid_template_areas": null,
            "object_position": null,
            "object_fit": null,
            "grid_auto_columns": null,
            "margin": null,
            "display": null,
            "left": null
          }
        },
        "bd88d54f303841328ee1f9963d95a8d7": {
          "model_module": "@jupyter-widgets/controls",
          "model_name": "DescriptionStyleModel",
          "model_module_version": "1.5.0",
          "state": {
            "_view_name": "StyleView",
            "_model_name": "DescriptionStyleModel",
            "description_width": "",
            "_view_module": "@jupyter-widgets/base",
            "_model_module_version": "1.5.0",
            "_view_count": null,
            "_view_module_version": "1.2.0",
            "_model_module": "@jupyter-widgets/controls"
          }
        },
        "fa3e56bd281d41fab7df01c5d503cfbb": {
          "model_module": "@jupyter-widgets/base",
          "model_name": "LayoutModel",
          "model_module_version": "1.2.0",
          "state": {
            "_view_name": "LayoutView",
            "grid_template_rows": null,
            "right": null,
            "justify_content": null,
            "_view_module": "@jupyter-widgets/base",
            "overflow": null,
            "_model_module_version": "1.2.0",
            "_view_count": null,
            "flex_flow": null,
            "width": null,
            "min_width": null,
            "border": null,
            "align_items": null,
            "bottom": null,
            "_model_module": "@jupyter-widgets/base",
            "top": null,
            "grid_column": null,
            "overflow_y": null,
            "overflow_x": null,
            "grid_auto_flow": null,
            "grid_area": null,
            "grid_template_columns": null,
            "flex": null,
            "_model_name": "LayoutModel",
            "justify_items": null,
            "grid_row": null,
            "max_height": null,
            "align_content": null,
            "visibility": null,
            "align_self": null,
            "height": null,
            "min_height": null,
            "padding": null,
            "grid_auto_rows": null,
            "grid_gap": null,
            "max_width": null,
            "order": null,
            "_view_module_version": "1.2.0",
            "grid_template_areas": null,
            "object_position": null,
            "object_fit": null,
            "grid_auto_columns": null,
            "margin": null,
            "display": null,
            "left": null
          }
        }
      }
    }
  },
  "cells": [
    {
      "cell_type": "markdown",
      "metadata": {
        "id": "nBXbFax4YP34"
      },
      "source": [
        "## Ungraded Lab: MNIST Autoencoder\n",
        "\n",
        "You will now work on an autoencoder that works on the [MNIST dataset](https://www.tensorflow.org/datasets/catalog/mnist). This will encode the inputs to lower resolution images. The decoder should then be able to generate the original input from this compressed representation."
      ]
    },
    {
      "cell_type": "markdown",
      "metadata": {
        "id": "9ZYaLxnBYUKA"
      },
      "source": [
        "## Imports"
      ]
    },
    {
      "cell_type": "code",
      "metadata": {
        "id": "3EXwoz-KHtWO"
      },
      "source": [
        "try:\n",
        "  # %tensorflow_version only exists in Colab.\n",
        "  %tensorflow_version 2.x\n",
        "except Exception:\n",
        "  pass\n",
        "  \n",
        "import tensorflow as tf\n",
        "import tensorflow_datasets as tfds\n",
        "\n",
        "import numpy as np\n",
        "import matplotlib.pyplot as plt"
      ],
      "execution_count": 1,
      "outputs": []
    },
    {
      "cell_type": "markdown",
      "metadata": {
        "id": "Is05FyRgYX0c"
      },
      "source": [
        "## Prepare the Dataset"
      ]
    },
    {
      "cell_type": "markdown",
      "metadata": {
        "id": "Xuhe2ksPI8A0"
      },
      "source": [
        "You will load the MNIST data from TFDS into train and test sets. Let's first define a preprocessing function for normalizing and flattening the images. Since we'll be training an autoencoder, this will return `image, image` because the input will also be the target or label while training.\n"
      ]
    },
    {
      "cell_type": "code",
      "metadata": {
        "id": "t9F7YsCNIKSA"
      },
      "source": [
        "def map_image(image, label):\n",
        "  '''Normalizes and flattens the image. Returns image as input and label.'''\n",
        "  image = tf.cast(image, dtype=tf.float32)\n",
        "  image = image / 255.0\n",
        "  image = tf.reshape(image, shape=(784,))\n",
        "\n",
        "  return image, image"
      ],
      "execution_count": 2,
      "outputs": []
    },
    {
      "cell_type": "code",
      "metadata": {
        "id": "08I1mbYSLbsC",
        "colab": {
          "base_uri": "https://localhost:8080/",
          "height": 225,
          "referenced_widgets": [
            "0f23b51c805146e59ca9ea9a79893ab6",
            "3b7e050e4ce94f53aeb029bfea3129ef",
            "fef1bf6b764144789f6ee2150fa54833",
            "b0fdb76a39c44bcea6fce92eb32b5d3e",
            "18381e02de9840c0be7b17b8f01c1d4e",
            "00463ebf5c914f62adfed3e3e2ef7163",
            "bd88d54f303841328ee1f9963d95a8d7",
            "fa3e56bd281d41fab7df01c5d503cfbb"
          ]
        },
        "outputId": "68cc63bd-e7d5-4bdf-a58b-accfaf02d032"
      },
      "source": [
        "# Load the train and test sets from TFDS\n",
        "\n",
        "BATCH_SIZE = 128\n",
        "SHUFFLE_BUFFER_SIZE = 1024\n",
        "\n",
        "train_dataset = tfds.load('mnist', as_supervised=True, split=\"train\")\n",
        "train_dataset = train_dataset.map(map_image)\n",
        "train_dataset = train_dataset.shuffle(SHUFFLE_BUFFER_SIZE).batch(BATCH_SIZE).repeat()\n",
        "\n",
        "test_dataset = tfds.load('mnist', as_supervised=True, split=\"test\")\n",
        "test_dataset = test_dataset.map(map_image)\n",
        "test_dataset = test_dataset.batch(BATCH_SIZE).repeat()"
      ],
      "execution_count": 3,
      "outputs": [
        {
          "output_type": "stream",
          "text": [
            "\u001b[1mDownloading and preparing dataset mnist/3.0.1 (download: 11.06 MiB, generated: 21.00 MiB, total: 32.06 MiB) to /root/tensorflow_datasets/mnist/3.0.1...\u001b[0m\n"
          ],
          "name": "stdout"
        },
        {
          "output_type": "stream",
          "text": [
            "WARNING:absl:Dataset mnist is hosted on GCS. It will automatically be downloaded to your\n",
            "local data directory. If you'd instead prefer to read directly from our public\n",
            "GCS bucket (recommended if you're running on GCP), you can instead pass\n",
            "`try_gcs=True` to `tfds.load` or set `data_dir=gs://tfds-data/datasets`.\n",
            "\n"
          ],
          "name": "stderr"
        },
        {
          "output_type": "display_data",
          "data": {
            "application/vnd.jupyter.widget-view+json": {
              "model_id": "0f23b51c805146e59ca9ea9a79893ab6",
              "version_minor": 0,
              "version_major": 2
            },
            "text/plain": [
              "HBox(children=(FloatProgress(value=0.0, description='Dl Completed...', max=4.0, style=ProgressStyle(descriptio…"
            ]
          },
          "metadata": {
            "tags": []
          }
        },
        {
          "output_type": "stream",
          "text": [
            "\n",
            "\n",
            "\u001b[1mDataset mnist downloaded and prepared to /root/tensorflow_datasets/mnist/3.0.1. Subsequent calls will reuse this data.\u001b[0m\n"
          ],
          "name": "stdout"
        }
      ]
    },
    {
      "cell_type": "markdown",
      "metadata": {
        "id": "Z70w2KXjYk32"
      },
      "source": [
        "## Build the Model"
      ]
    },
    {
      "cell_type": "markdown",
      "metadata": {
        "id": "1MKu48lBM2Qg"
      },
      "source": [
        "You will now build a simple autoencoder to ingest the data. Like before, the encoder will compress the input and reconstructs it in the decoder output."
      ]
    },
    {
      "cell_type": "code",
      "metadata": {
        "id": "KRrE2BV4IpzR"
      },
      "source": [
        "def simple_autoencoder(inputs):\n",
        "  '''Builds the encoder and decoder using Dense layers.'''\n",
        "  encoder = tf.keras.layers.Dense(units=32, activation='relu')(inputs)\n",
        "  decoder = tf.keras.layers.Dense(units=784, activation='sigmoid')(encoder)\n",
        "  \n",
        "  return encoder, decoder\n",
        "\n",
        "# set the input shape\n",
        "inputs =  tf.keras.layers.Input(shape=(784,))\n",
        "\n",
        "# get the encoder and decoder output\n",
        "encoder_output, decoder_output = simple_autoencoder(inputs)\n",
        "\n",
        "# setup the encoder because you will visualize its output later\n",
        "encoder_model = tf.keras.Model(inputs=inputs, outputs=encoder_output)\n",
        "\n",
        "# setup the autoencoder\n",
        "autoencoder_model = tf.keras.Model(inputs=inputs, outputs=decoder_output)"
      ],
      "execution_count": 4,
      "outputs": []
    },
    {
      "cell_type": "markdown",
      "metadata": {
        "id": "8k9OnSM4YxJd"
      },
      "source": [
        "## Compile the Model"
      ]
    },
    {
      "cell_type": "markdown",
      "metadata": {
        "id": "DvvDqY_XQPyb"
      },
      "source": [
        "You will setup the model for training. You can use binary crossentropy to measure the loss between pixel values that range from 0 (black) to 1 (white)."
      ]
    },
    {
      "cell_type": "code",
      "metadata": {
        "id": "cFwmAhWAYwcc"
      },
      "source": [
        "autoencoder_model.compile(\n",
        "    optimizer=tf.keras.optimizers.Adam(), \n",
        "    loss='binary_crossentropy')"
      ],
      "execution_count": 5,
      "outputs": []
    },
    {
      "cell_type": "markdown",
      "metadata": {
        "id": "zzLf0oQ1Y0cI"
      },
      "source": [
        "## Train the Model"
      ]
    },
    {
      "cell_type": "code",
      "metadata": {
        "id": "vsaSjlAgYz-7",
        "colab": {
          "base_uri": "https://localhost:8080/"
        },
        "outputId": "513795dc-013b-4c0d-a88f-4b9c0daa613d"
      },
      "source": [
        "train_steps = 60000 // BATCH_SIZE\n",
        "simple_auto_history = autoencoder_model.fit(train_dataset, steps_per_epoch=train_steps, epochs=200)"
      ],
      "execution_count": 9,
      "outputs": [
        {
          "output_type": "stream",
          "text": [
            "Epoch 1/200\n",
            "468/468 [==============================] - 3s 7ms/step - loss: 0.0926\n",
            "Epoch 2/200\n",
            "468/468 [==============================] - 3s 6ms/step - loss: 0.0926\n",
            "Epoch 3/200\n",
            "468/468 [==============================] - 3s 6ms/step - loss: 0.0926\n",
            "Epoch 4/200\n",
            "468/468 [==============================] - 3s 6ms/step - loss: 0.0926\n",
            "Epoch 5/200\n",
            "468/468 [==============================] - 3s 6ms/step - loss: 0.0926\n",
            "Epoch 6/200\n",
            "468/468 [==============================] - 3s 6ms/step - loss: 0.0926\n",
            "Epoch 7/200\n",
            "468/468 [==============================] - 3s 6ms/step - loss: 0.0926\n",
            "Epoch 8/200\n",
            "468/468 [==============================] - 3s 6ms/step - loss: 0.0926\n",
            "Epoch 9/200\n",
            "468/468 [==============================] - 3s 6ms/step - loss: 0.0926\n",
            "Epoch 10/200\n",
            "468/468 [==============================] - 3s 6ms/step - loss: 0.0926\n",
            "Epoch 11/200\n",
            "468/468 [==============================] - 3s 7ms/step - loss: 0.0925\n",
            "Epoch 12/200\n",
            "468/468 [==============================] - 3s 7ms/step - loss: 0.0926\n",
            "Epoch 13/200\n",
            "468/468 [==============================] - 3s 7ms/step - loss: 0.0925\n",
            "Epoch 14/200\n",
            "468/468 [==============================] - 3s 7ms/step - loss: 0.0925\n",
            "Epoch 15/200\n",
            "468/468 [==============================] - 3s 7ms/step - loss: 0.0925\n",
            "Epoch 16/200\n",
            "468/468 [==============================] - 3s 7ms/step - loss: 0.0925\n",
            "Epoch 17/200\n",
            "468/468 [==============================] - 3s 6ms/step - loss: 0.0925\n",
            "Epoch 18/200\n",
            "468/468 [==============================] - 3s 6ms/step - loss: 0.0925\n",
            "Epoch 19/200\n",
            "468/468 [==============================] - 3s 6ms/step - loss: 0.0925\n",
            "Epoch 20/200\n",
            "468/468 [==============================] - 3s 6ms/step - loss: 0.0925\n",
            "Epoch 21/200\n",
            "468/468 [==============================] - 3s 6ms/step - loss: 0.0924\n",
            "Epoch 22/200\n",
            "468/468 [==============================] - 3s 6ms/step - loss: 0.0925\n",
            "Epoch 23/200\n",
            "468/468 [==============================] - 3s 6ms/step - loss: 0.0924\n",
            "Epoch 24/200\n",
            "468/468 [==============================] - 3s 6ms/step - loss: 0.0924\n",
            "Epoch 25/200\n",
            "468/468 [==============================] - 3s 6ms/step - loss: 0.0924\n",
            "Epoch 26/200\n",
            "468/468 [==============================] - 3s 6ms/step - loss: 0.0924\n",
            "Epoch 27/200\n",
            "468/468 [==============================] - 3s 6ms/step - loss: 0.0924\n",
            "Epoch 28/200\n",
            "468/468 [==============================] - 3s 6ms/step - loss: 0.0924\n",
            "Epoch 29/200\n",
            "468/468 [==============================] - 3s 6ms/step - loss: 0.0924\n",
            "Epoch 30/200\n",
            "468/468 [==============================] - 3s 6ms/step - loss: 0.0924\n",
            "Epoch 31/200\n",
            "468/468 [==============================] - 3s 6ms/step - loss: 0.0924\n",
            "Epoch 32/200\n",
            "468/468 [==============================] - 3s 7ms/step - loss: 0.0924\n",
            "Epoch 33/200\n",
            "468/468 [==============================] - 3s 7ms/step - loss: 0.0924\n",
            "Epoch 34/200\n",
            "468/468 [==============================] - 3s 7ms/step - loss: 0.0924\n",
            "Epoch 35/200\n",
            "468/468 [==============================] - 3s 7ms/step - loss: 0.0924\n",
            "Epoch 36/200\n",
            "468/468 [==============================] - 3s 7ms/step - loss: 0.0923\n",
            "Epoch 37/200\n",
            "468/468 [==============================] - 3s 7ms/step - loss: 0.0923\n",
            "Epoch 38/200\n",
            "468/468 [==============================] - 3s 7ms/step - loss: 0.0924\n",
            "Epoch 39/200\n",
            "468/468 [==============================] - 3s 6ms/step - loss: 0.0923\n",
            "Epoch 40/200\n",
            "468/468 [==============================] - 3s 6ms/step - loss: 0.0923\n",
            "Epoch 41/200\n",
            "468/468 [==============================] - 3s 6ms/step - loss: 0.0923\n",
            "Epoch 42/200\n",
            "468/468 [==============================] - 3s 7ms/step - loss: 0.0923\n",
            "Epoch 43/200\n",
            "468/468 [==============================] - 3s 7ms/step - loss: 0.0923\n",
            "Epoch 44/200\n",
            "468/468 [==============================] - 3s 7ms/step - loss: 0.0923\n",
            "Epoch 45/200\n",
            "468/468 [==============================] - 3s 7ms/step - loss: 0.0923\n",
            "Epoch 46/200\n",
            "468/468 [==============================] - 3s 7ms/step - loss: 0.0923\n",
            "Epoch 47/200\n",
            "468/468 [==============================] - 3s 7ms/step - loss: 0.0923\n",
            "Epoch 48/200\n",
            "468/468 [==============================] - 3s 7ms/step - loss: 0.0922\n",
            "Epoch 49/200\n",
            "468/468 [==============================] - 3s 7ms/step - loss: 0.0923\n",
            "Epoch 50/200\n",
            "468/468 [==============================] - 3s 6ms/step - loss: 0.0922\n",
            "Epoch 51/200\n",
            "468/468 [==============================] - 3s 6ms/step - loss: 0.0923\n",
            "Epoch 52/200\n",
            "468/468 [==============================] - 3s 6ms/step - loss: 0.0922\n",
            "Epoch 53/200\n",
            "468/468 [==============================] - 3s 6ms/step - loss: 0.0923\n",
            "Epoch 54/200\n",
            "468/468 [==============================] - 3s 6ms/step - loss: 0.0922\n",
            "Epoch 55/200\n",
            "468/468 [==============================] - 3s 7ms/step - loss: 0.0922\n",
            "Epoch 56/200\n",
            "468/468 [==============================] - 3s 6ms/step - loss: 0.0922\n",
            "Epoch 57/200\n",
            "468/468 [==============================] - 3s 6ms/step - loss: 0.0922\n",
            "Epoch 58/200\n",
            "468/468 [==============================] - 3s 6ms/step - loss: 0.0922\n",
            "Epoch 59/200\n",
            "468/468 [==============================] - 3s 6ms/step - loss: 0.0922\n",
            "Epoch 60/200\n",
            "468/468 [==============================] - 3s 6ms/step - loss: 0.0922\n",
            "Epoch 61/200\n",
            "468/468 [==============================] - 3s 6ms/step - loss: 0.0922\n",
            "Epoch 62/200\n",
            "468/468 [==============================] - 3s 6ms/step - loss: 0.0922\n",
            "Epoch 63/200\n",
            "468/468 [==============================] - 3s 6ms/step - loss: 0.0922\n",
            "Epoch 64/200\n",
            "468/468 [==============================] - 3s 6ms/step - loss: 0.0922\n",
            "Epoch 65/200\n",
            "468/468 [==============================] - 3s 7ms/step - loss: 0.0922\n",
            "Epoch 66/200\n",
            "468/468 [==============================] - 3s 7ms/step - loss: 0.0922\n",
            "Epoch 67/200\n",
            "468/468 [==============================] - 3s 7ms/step - loss: 0.0922\n",
            "Epoch 68/200\n",
            "468/468 [==============================] - 3s 7ms/step - loss: 0.0922\n",
            "Epoch 69/200\n",
            "468/468 [==============================] - 3s 7ms/step - loss: 0.0921\n",
            "Epoch 70/200\n",
            "468/468 [==============================] - 3s 7ms/step - loss: 0.0922\n",
            "Epoch 71/200\n",
            "468/468 [==============================] - 3s 7ms/step - loss: 0.0921\n",
            "Epoch 72/200\n",
            "468/468 [==============================] - 3s 7ms/step - loss: 0.0921\n",
            "Epoch 73/200\n",
            "468/468 [==============================] - 3s 6ms/step - loss: 0.0921\n",
            "Epoch 74/200\n",
            "468/468 [==============================] - 3s 6ms/step - loss: 0.0921\n",
            "Epoch 75/200\n",
            "468/468 [==============================] - 3s 6ms/step - loss: 0.0921\n",
            "Epoch 76/200\n",
            "468/468 [==============================] - 3s 6ms/step - loss: 0.0921\n",
            "Epoch 77/200\n",
            "468/468 [==============================] - 3s 6ms/step - loss: 0.0921\n",
            "Epoch 78/200\n",
            "468/468 [==============================] - 3s 6ms/step - loss: 0.0921\n",
            "Epoch 79/200\n",
            "468/468 [==============================] - 3s 6ms/step - loss: 0.0921\n",
            "Epoch 80/200\n",
            "468/468 [==============================] - 3s 6ms/step - loss: 0.0921\n",
            "Epoch 81/200\n",
            "468/468 [==============================] - 3s 6ms/step - loss: 0.0921\n",
            "Epoch 82/200\n",
            "468/468 [==============================] - 3s 6ms/step - loss: 0.0921\n",
            "Epoch 83/200\n",
            "468/468 [==============================] - 3s 6ms/step - loss: 0.0921\n",
            "Epoch 84/200\n",
            "468/468 [==============================] - 3s 6ms/step - loss: 0.0921\n",
            "Epoch 85/200\n",
            "468/468 [==============================] - 3s 6ms/step - loss: 0.0920\n",
            "Epoch 86/200\n",
            "468/468 [==============================] - 3s 7ms/step - loss: 0.0921\n",
            "Epoch 87/200\n",
            "468/468 [==============================] - 3s 7ms/step - loss: 0.0920\n",
            "Epoch 88/200\n",
            "468/468 [==============================] - 3s 7ms/step - loss: 0.0921\n",
            "Epoch 89/200\n",
            "468/468 [==============================] - 3s 7ms/step - loss: 0.0920\n",
            "Epoch 90/200\n",
            "468/468 [==============================] - 3s 7ms/step - loss: 0.0920\n",
            "Epoch 91/200\n",
            "468/468 [==============================] - 3s 7ms/step - loss: 0.0921\n",
            "Epoch 92/200\n",
            "468/468 [==============================] - 3s 7ms/step - loss: 0.0920\n",
            "Epoch 93/200\n",
            "468/468 [==============================] - 3s 7ms/step - loss: 0.0920\n",
            "Epoch 94/200\n",
            "468/468 [==============================] - 3s 6ms/step - loss: 0.0920\n",
            "Epoch 95/200\n",
            "468/468 [==============================] - 3s 6ms/step - loss: 0.0920\n",
            "Epoch 96/200\n",
            "468/468 [==============================] - 3s 6ms/step - loss: 0.0920\n",
            "Epoch 97/200\n",
            "468/468 [==============================] - 3s 6ms/step - loss: 0.0920\n",
            "Epoch 98/200\n",
            "468/468 [==============================] - 3s 6ms/step - loss: 0.0920\n",
            "Epoch 99/200\n",
            "468/468 [==============================] - 3s 6ms/step - loss: 0.0920\n",
            "Epoch 100/200\n",
            "468/468 [==============================] - 3s 6ms/step - loss: 0.0920\n",
            "Epoch 101/200\n",
            "468/468 [==============================] - 3s 6ms/step - loss: 0.0920\n",
            "Epoch 102/200\n",
            "468/468 [==============================] - 3s 6ms/step - loss: 0.0920\n",
            "Epoch 103/200\n",
            "468/468 [==============================] - 3s 6ms/step - loss: 0.0920\n",
            "Epoch 104/200\n",
            "468/468 [==============================] - 3s 6ms/step - loss: 0.0920\n",
            "Epoch 105/200\n",
            "468/468 [==============================] - 3s 6ms/step - loss: 0.0920\n",
            "Epoch 106/200\n",
            "468/468 [==============================] - 3s 6ms/step - loss: 0.0920\n",
            "Epoch 107/200\n",
            "468/468 [==============================] - 3s 6ms/step - loss: 0.0920\n",
            "Epoch 108/200\n",
            "468/468 [==============================] - 3s 6ms/step - loss: 0.0919\n",
            "Epoch 109/200\n",
            "468/468 [==============================] - 3s 7ms/step - loss: 0.0920\n",
            "Epoch 110/200\n",
            "468/468 [==============================] - 3s 7ms/step - loss: 0.0919\n",
            "Epoch 111/200\n",
            "468/468 [==============================] - 3s 7ms/step - loss: 0.0920\n",
            "Epoch 112/200\n",
            "468/468 [==============================] - 3s 7ms/step - loss: 0.0919\n",
            "Epoch 113/200\n",
            "468/468 [==============================] - 3s 7ms/step - loss: 0.0920\n",
            "Epoch 114/200\n",
            "468/468 [==============================] - 3s 7ms/step - loss: 0.0919\n",
            "Epoch 115/200\n",
            "468/468 [==============================] - 3s 7ms/step - loss: 0.0919\n",
            "Epoch 116/200\n",
            "468/468 [==============================] - 3s 7ms/step - loss: 0.0920\n",
            "Epoch 117/200\n",
            "468/468 [==============================] - 3s 6ms/step - loss: 0.0919\n",
            "Epoch 118/200\n",
            "468/468 [==============================] - 3s 6ms/step - loss: 0.0919\n",
            "Epoch 119/200\n",
            "468/468 [==============================] - 3s 6ms/step - loss: 0.0919\n",
            "Epoch 120/200\n",
            "468/468 [==============================] - 3s 6ms/step - loss: 0.0919\n",
            "Epoch 121/200\n",
            "468/468 [==============================] - 3s 6ms/step - loss: 0.0919\n",
            "Epoch 122/200\n",
            "468/468 [==============================] - 3s 6ms/step - loss: 0.0919\n",
            "Epoch 123/200\n",
            "468/468 [==============================] - 3s 6ms/step - loss: 0.0919\n",
            "Epoch 124/200\n",
            "468/468 [==============================] - 3s 6ms/step - loss: 0.0919\n",
            "Epoch 125/200\n",
            "468/468 [==============================] - 3s 6ms/step - loss: 0.0919\n",
            "Epoch 126/200\n",
            "468/468 [==============================] - 3s 6ms/step - loss: 0.0919\n",
            "Epoch 127/200\n",
            "468/468 [==============================] - 3s 6ms/step - loss: 0.0919\n",
            "Epoch 128/200\n",
            "468/468 [==============================] - 3s 6ms/step - loss: 0.0919\n",
            "Epoch 129/200\n",
            "468/468 [==============================] - 3s 6ms/step - loss: 0.0919\n",
            "Epoch 130/200\n",
            "468/468 [==============================] - 3s 6ms/step - loss: 0.0919\n",
            "Epoch 131/200\n",
            "468/468 [==============================] - 3s 7ms/step - loss: 0.0919\n",
            "Epoch 132/200\n",
            "468/468 [==============================] - 3s 7ms/step - loss: 0.0919\n",
            "Epoch 133/200\n",
            "468/468 [==============================] - 3s 7ms/step - loss: 0.0919\n",
            "Epoch 134/200\n",
            "468/468 [==============================] - 3s 7ms/step - loss: 0.0919\n",
            "Epoch 135/200\n",
            "468/468 [==============================] - 3s 7ms/step - loss: 0.0919\n",
            "Epoch 136/200\n",
            "468/468 [==============================] - 3s 7ms/step - loss: 0.0918\n",
            "Epoch 137/200\n",
            "468/468 [==============================] - 3s 7ms/step - loss: 0.0918\n",
            "Epoch 138/200\n",
            "468/468 [==============================] - 3s 7ms/step - loss: 0.0918\n",
            "Epoch 139/200\n",
            "468/468 [==============================] - 3s 6ms/step - loss: 0.0919\n",
            "Epoch 140/200\n",
            "468/468 [==============================] - 3s 6ms/step - loss: 0.0919\n",
            "Epoch 141/200\n",
            "468/468 [==============================] - 3s 7ms/step - loss: 0.0918\n",
            "Epoch 142/200\n",
            "468/468 [==============================] - 3s 7ms/step - loss: 0.0918\n",
            "Epoch 143/200\n",
            "468/468 [==============================] - 3s 7ms/step - loss: 0.0918\n",
            "Epoch 144/200\n",
            "468/468 [==============================] - 3s 7ms/step - loss: 0.0918\n",
            "Epoch 145/200\n",
            "468/468 [==============================] - 3s 7ms/step - loss: 0.0918\n",
            "Epoch 146/200\n",
            "468/468 [==============================] - 3s 7ms/step - loss: 0.0918\n",
            "Epoch 147/200\n",
            "468/468 [==============================] - 3s 7ms/step - loss: 0.0918\n",
            "Epoch 148/200\n",
            "468/468 [==============================] - 3s 7ms/step - loss: 0.0918\n",
            "Epoch 149/200\n",
            "468/468 [==============================] - 3s 6ms/step - loss: 0.0918\n",
            "Epoch 150/200\n",
            "468/468 [==============================] - 3s 6ms/step - loss: 0.0918\n",
            "Epoch 151/200\n",
            "468/468 [==============================] - 3s 6ms/step - loss: 0.0918\n",
            "Epoch 152/200\n",
            "468/468 [==============================] - 3s 6ms/step - loss: 0.0918\n",
            "Epoch 153/200\n",
            "468/468 [==============================] - 3s 6ms/step - loss: 0.0918\n",
            "Epoch 154/200\n",
            "468/468 [==============================] - 3s 6ms/step - loss: 0.0918\n",
            "Epoch 155/200\n",
            "468/468 [==============================] - 3s 6ms/step - loss: 0.0918\n",
            "Epoch 156/200\n",
            "468/468 [==============================] - 3s 6ms/step - loss: 0.0918\n",
            "Epoch 157/200\n",
            "468/468 [==============================] - 3s 6ms/step - loss: 0.0918\n",
            "Epoch 158/200\n",
            "468/468 [==============================] - 3s 6ms/step - loss: 0.0918\n",
            "Epoch 159/200\n",
            "468/468 [==============================] - 3s 6ms/step - loss: 0.0918\n",
            "Epoch 160/200\n",
            "468/468 [==============================] - 3s 6ms/step - loss: 0.0918\n",
            "Epoch 161/200\n",
            "468/468 [==============================] - 3s 6ms/step - loss: 0.0918\n",
            "Epoch 162/200\n",
            "468/468 [==============================] - 3s 6ms/step - loss: 0.0918\n",
            "Epoch 163/200\n",
            "468/468 [==============================] - 3s 7ms/step - loss: 0.0917\n",
            "Epoch 164/200\n",
            "468/468 [==============================] - 3s 7ms/step - loss: 0.0917\n",
            "Epoch 165/200\n",
            "468/468 [==============================] - 3s 7ms/step - loss: 0.0918\n",
            "Epoch 166/200\n",
            "468/468 [==============================] - 3s 7ms/step - loss: 0.0917\n",
            "Epoch 167/200\n",
            "468/468 [==============================] - 3s 7ms/step - loss: 0.0918\n",
            "Epoch 168/200\n",
            "468/468 [==============================] - 3s 7ms/step - loss: 0.0917\n",
            "Epoch 169/200\n",
            "468/468 [==============================] - 3s 7ms/step - loss: 0.0917\n",
            "Epoch 170/200\n",
            "468/468 [==============================] - 3s 7ms/step - loss: 0.0918\n",
            "Epoch 171/200\n",
            "468/468 [==============================] - 3s 6ms/step - loss: 0.0917\n",
            "Epoch 172/200\n",
            "468/468 [==============================] - 3s 6ms/step - loss: 0.0917\n",
            "Epoch 173/200\n",
            "468/468 [==============================] - 3s 6ms/step - loss: 0.0917\n",
            "Epoch 174/200\n",
            "468/468 [==============================] - 3s 7ms/step - loss: 0.0917\n",
            "Epoch 175/200\n",
            "468/468 [==============================] - 3s 6ms/step - loss: 0.0917\n",
            "Epoch 176/200\n",
            "468/468 [==============================] - 3s 6ms/step - loss: 0.0917\n",
            "Epoch 177/200\n",
            "468/468 [==============================] - 3s 6ms/step - loss: 0.0917\n",
            "Epoch 178/200\n",
            "468/468 [==============================] - 3s 6ms/step - loss: 0.0917\n",
            "Epoch 179/200\n",
            "468/468 [==============================] - 3s 6ms/step - loss: 0.0917\n",
            "Epoch 180/200\n",
            "468/468 [==============================] - 3s 6ms/step - loss: 0.0917\n",
            "Epoch 181/200\n",
            "468/468 [==============================] - 3s 6ms/step - loss: 0.0917\n",
            "Epoch 182/200\n",
            "468/468 [==============================] - 3s 6ms/step - loss: 0.0917\n",
            "Epoch 183/200\n",
            "468/468 [==============================] - 3s 6ms/step - loss: 0.0917\n",
            "Epoch 184/200\n",
            "468/468 [==============================] - 3s 6ms/step - loss: 0.0917\n",
            "Epoch 185/200\n",
            "468/468 [==============================] - 3s 7ms/step - loss: 0.0917\n",
            "Epoch 186/200\n",
            "468/468 [==============================] - 3s 7ms/step - loss: 0.0917\n",
            "Epoch 187/200\n",
            "468/468 [==============================] - 3s 7ms/step - loss: 0.0917\n",
            "Epoch 188/200\n",
            "468/468 [==============================] - 3s 7ms/step - loss: 0.0917\n",
            "Epoch 189/200\n",
            "468/468 [==============================] - 3s 7ms/step - loss: 0.0917\n",
            "Epoch 190/200\n",
            "468/468 [==============================] - 3s 7ms/step - loss: 0.0917\n",
            "Epoch 191/200\n",
            "468/468 [==============================] - 3s 7ms/step - loss: 0.0917\n",
            "Epoch 192/200\n",
            "468/468 [==============================] - 3s 7ms/step - loss: 0.0916\n",
            "Epoch 193/200\n",
            "468/468 [==============================] - 3s 6ms/step - loss: 0.0917\n",
            "Epoch 194/200\n",
            "468/468 [==============================] - 3s 6ms/step - loss: 0.0917\n",
            "Epoch 195/200\n",
            "468/468 [==============================] - 3s 6ms/step - loss: 0.0916\n",
            "Epoch 196/200\n",
            "468/468 [==============================] - 3s 6ms/step - loss: 0.0917\n",
            "Epoch 197/200\n",
            "468/468 [==============================] - 3s 6ms/step - loss: 0.0916\n",
            "Epoch 198/200\n",
            "468/468 [==============================] - 3s 6ms/step - loss: 0.0917\n",
            "Epoch 199/200\n",
            "468/468 [==============================] - 3s 6ms/step - loss: 0.0916\n",
            "Epoch 200/200\n",
            "468/468 [==============================] - 3s 6ms/step - loss: 0.0916\n"
          ],
          "name": "stdout"
        }
      ]
    },
    {
      "cell_type": "markdown",
      "metadata": {
        "id": "1_sKLXnBZFSc"
      },
      "source": [
        "## Display sample results\n",
        "\n",
        "You can now visualize the results. The utility functions below will help in plotting the encoded and decoded values."
      ]
    },
    {
      "cell_type": "code",
      "metadata": {
        "id": "5tgFgilORr0M"
      },
      "source": [
        "def display_one_row(disp_images, offset, shape=(28, 28)):\n",
        "  '''Display sample outputs in one row.'''\n",
        "  for idx, test_image in enumerate(disp_images):\n",
        "    plt.subplot(3, 10, offset + idx + 1)\n",
        "    plt.xticks([])\n",
        "    plt.yticks([])\n",
        "    test_image = np.reshape(test_image, shape)\n",
        "    plt.imshow(test_image, cmap='gray')\n",
        "\n",
        "\n",
        "def display_results(disp_input_images, disp_encoded, disp_predicted, enc_shape=(8,4)):\n",
        "  '''Displays the input, encoded, and decoded output values.'''\n",
        "  plt.figure(figsize=(15, 5))\n",
        "  display_one_row(disp_input_images, 0, shape=(28,28,))\n",
        "  display_one_row(disp_encoded, 10, shape=enc_shape)\n",
        "  display_one_row(disp_predicted, 20, shape=(28,28,))"
      ],
      "execution_count": 10,
      "outputs": []
    },
    {
      "cell_type": "code",
      "metadata": {
        "id": "qtQyQRxRN_hH",
        "colab": {
          "base_uri": "https://localhost:8080/",
          "height": 297
        },
        "outputId": "3783fa9a-31e4-4d69-e57c-68154379482c"
      },
      "source": [
        "# take 1 batch of the dataset\n",
        "test_dataset = test_dataset.take(1)\n",
        "\n",
        "# take the input images and put them in a list\n",
        "output_samples = []\n",
        "for input_image, image in tfds.as_numpy(test_dataset):\n",
        "      output_samples = input_image\n",
        "\n",
        "# pick 10 random numbers to be used as indices to the list above\n",
        "idxs = np.random.choice(BATCH_SIZE, size=10)\n",
        "\n",
        "# get the encoder output\n",
        "encoded_predicted = encoder_model.predict(test_dataset)\n",
        "\n",
        "# get a prediction for the test batch\n",
        "simple_predicted = autoencoder_model.predict(test_dataset)\n",
        "\n",
        "# display the 10 samples, encodings and decoded values!\n",
        "display_results(output_samples[idxs], encoded_predicted[idxs], simple_predicted[idxs])"
      ],
      "execution_count": 11,
      "outputs": [
        {
          "output_type": "display_data",
          "data": {
            "image/png": "[encoded data removed]",
            "text/plain": [
              "<Figure size 1080x360 with 30 Axes>"
            ]
          },
          "metadata": {
            "tags": []
          }
        }
      ]
    }
  ]
}