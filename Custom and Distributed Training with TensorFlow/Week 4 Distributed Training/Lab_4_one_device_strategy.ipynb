{
  "nbformat": 4,
  "nbformat_minor": 0,
  "metadata": {
    "accelerator": "GPU",
    "colab": {
      "name": "Lab_4_one-device-strategy.ipynb",
      "provenance": [],
      "collapsed_sections": []
    },
    "kernelspec": {
      "display_name": "Python 3",
      "language": "python",
      "name": "python3"
    },
    "language_info": {
      "codemirror_mode": {
        "name": "ipython",
        "version": 3
      },
      "file_extension": ".py",
      "mimetype": "text/x-python",
      "name": "python",
      "nbconvert_exporter": "python",
      "pygments_lexer": "ipython3",
      "version": "3.7.4"
    }
  },
  "cells": [
    {
      "cell_type": "markdown",
      "metadata": {
        "id": "I0YSgR7e-HEr"
      },
      "source": [
        "<a href=\"https://colab.research.google.com/github/https-deeplearning-ai/tensorflow-3-public/blob/main/Course%202%20-%20Custom%20Training%20loops%2C%20Gradients%20and%20Distributed%20Training/Week%204%20-%20Distribution%20Strategy/C2_W4_Lab_4_one-device-strategy.ipynb\" target=\"_parent\"><img src=\"https://colab.research.google.com/assets/colab-badge.svg\" alt=\"Open In Colab\"/></a>"
      ]
    },
    {
      "cell_type": "markdown",
      "metadata": {
        "id": "w5Y9aRio-HEv"
      },
      "source": [
        "# One Device Strategy \n",
        "\n",
        "In this ungraded lab, you'll learn how to set up a [One Device Strategy](https://www.tensorflow.org/api_docs/python/tf/distribute/OneDeviceStrategy). This is typically used to deliberately test your code on a single device. This can be used before switching to a different strategy that distributes across multiple devices. Please click on the **Open in Colab** badge above so you can download the datasets and use a GPU-enabled lab environment."
      ]
    },
    {
      "cell_type": "markdown",
      "metadata": {
        "id": "GyeHDgf8-HEw"
      },
      "source": [
        "## Imports"
      ]
    },
    {
      "cell_type": "code",
      "metadata": {
        "id": "rFpbGH-egdhC"
      },
      "source": [
        "try:\n",
        "  # %tensorflow_version only exists in Colab.\n",
        "  %tensorflow_version 2.x\n",
        "except Exception:\n",
        "  pass\n",
        "\n",
        "import tensorflow as tf\n",
        "import tensorflow_hub as hub\n",
        "import tensorflow_datasets as tfds\n",
        "\n",
        "tfds.disable_progress_bar()"
      ],
      "execution_count": 1,
      "outputs": []
    },
    {
      "cell_type": "markdown",
      "metadata": {
        "id": "qOl1N3t4-HEy"
      },
      "source": [
        "## Define the Distribution Strategy\n",
        "\n",
        "You can list available devices in your machine and specify a device type. This allows you to verify the device name to pass in `tf.distribute.OneDeviceStrategy()`."
      ]
    },
    {
      "cell_type": "code",
      "metadata": {
        "id": "GT0V1jwj-HEy",
        "colab": {
          "base_uri": "https://localhost:8080/"
        },
        "outputId": "db5a9f35-70bd-48e8-da99-44b4fac79187"
      },
      "source": [
        "# choose a device type such as CPU or GPU\n",
        "devices = tf.config.list_physical_devices('GPU')\n",
        "print(devices[0])\n",
        "\n",
        "# You'll see that the name will look something like \"/physical_device:GPU:0\"\n",
        "# Just take the GPU:0 part and use that as the name\n",
        "gpu_name = \"GPU:0\"\n",
        "\n",
        "# define the strategy and pass in the device name\n",
        "one_strategy = tf.distribute.OneDeviceStrategy(device=gpu_name)"
      ],
      "execution_count": 2,
      "outputs": [
        {
          "output_type": "stream",
          "text": [
            "PhysicalDevice(name='/physical_device:GPU:0', device_type='GPU')\n"
          ],
          "name": "stdout"
        }
      ]
    },
    {
      "cell_type": "markdown",
      "metadata": {
        "id": "bHPyIpd2-HEz"
      },
      "source": [
        "## Parameters\n",
        "\n",
        "We'll define a few global variables for setting up the model and dataset."
      ]
    },
    {
      "cell_type": "code",
      "metadata": {
        "id": "P_OV1G0J0bx8",
        "colab": {
          "base_uri": "https://localhost:8080/"
        },
        "outputId": "7cb8ebcc-ecd9-41cb-a566-36e7922ed111"
      },
      "source": [
        "pixels = 224\n",
        "MODULE_HANDLE = 'https://tfhub.dev/tensorflow/resnet_50/feature_vector/1'\n",
        "IMAGE_SIZE = (pixels, pixels)\n",
        "BATCH_SIZE = 32\n",
        "\n",
        "print(\"Using {} with input size {}\".format(MODULE_HANDLE, IMAGE_SIZE))"
      ],
      "execution_count": 3,
      "outputs": [
        {
          "output_type": "stream",
          "text": [
            "Using https://tfhub.dev/tensorflow/resnet_50/feature_vector/1 with input size (224, 224)\n"
          ],
          "name": "stdout"
        }
      ]
    },
    {
      "cell_type": "markdown",
      "metadata": {
        "id": "foAAGZFZ-HE2"
      },
      "source": [
        "## Download and Prepare the Dataset\n",
        "\n",
        "We will use the [Cats vs Dogs](https://www.tensorflow.org/datasets/catalog/cats_vs_dogs) dataset and we will fetch it via TFDS."
      ]
    },
    {
      "cell_type": "code",
      "metadata": {
        "id": "1HCFBMh-1gaX",
        "colab": {
          "base_uri": "https://localhost:8080/"
        },
        "outputId": "4d47026f-d1e0-4207-a5cb-4dd59ffa0acd"
      },
      "source": [
        "splits = ['train[:80%]', 'train[80%:90%]', 'train[90%:]']\n",
        "\n",
        "(train_examples, validation_examples, test_examples), info = tfds.load('cats_vs_dogs', with_info=True, as_supervised=True, split=splits)\n",
        "\n",
        "num_examples = info.splits['train'].num_examples\n",
        "num_classes = info.features['label'].num_classes"
      ],
      "execution_count": 4,
      "outputs": [
        {
          "output_type": "stream",
          "text": [
            "\u001b[1mDownloading and preparing dataset cats_vs_dogs/4.0.0 (download: 786.68 MiB, generated: Unknown size, total: 786.68 MiB) to /root/tensorflow_datasets/cats_vs_dogs/4.0.0...\u001b[0m\n"
          ],
          "name": "stdout"
        },
        {
          "output_type": "stream",
          "text": [
            "WARNING:absl:1738 images were corrupted and were skipped\n"
          ],
          "name": "stderr"
        },
        {
          "output_type": "stream",
          "text": [
            "Shuffling and writing examples to /root/tensorflow_datasets/cats_vs_dogs/4.0.0.incompleteBAYC4G/cats_vs_dogs-train.tfrecord\n",
            "\u001b[1mDataset cats_vs_dogs downloaded and prepared to /root/tensorflow_datasets/cats_vs_dogs/4.0.0. Subsequent calls will reuse this data.\u001b[0m\n"
          ],
          "name": "stdout"
        }
      ]
    },
    {
      "cell_type": "code",
      "metadata": {
        "id": "5jfUDRQN1kfk"
      },
      "source": [
        "# resize the image and normalize pixel values\n",
        "def format_image(image, label):\n",
        "    image = tf.image.resize(image, IMAGE_SIZE) / 255.0\n",
        "    return  image, label"
      ],
      "execution_count": 5,
      "outputs": []
    },
    {
      "cell_type": "code",
      "metadata": {
        "id": "WRBF8Vp01uaE"
      },
      "source": [
        "# prepare batches\n",
        "train_batches = train_examples.shuffle(num_examples // 4).map(format_image).batch(BATCH_SIZE).prefetch(1)\n",
        "validation_batches = validation_examples.map(format_image).batch(BATCH_SIZE).prefetch(1)\n",
        "test_batches = test_examples.map(format_image).batch(1)"
      ],
      "execution_count": 6,
      "outputs": []
    },
    {
      "cell_type": "code",
      "metadata": {
        "id": "MxggWg9m11P1",
        "colab": {
          "base_uri": "https://localhost:8080/"
        },
        "outputId": "9afd8b6b-3c9c-4efe-cb1e-3eade3d5dda7"
      },
      "source": [
        "# check if the batches have the correct size and the images have the correct shape\n",
        "for image_batch, label_batch in train_batches.take(1):\n",
        "    pass\n",
        "\n",
        "print(image_batch.shape)"
      ],
      "execution_count": 7,
      "outputs": [
        {
          "output_type": "stream",
          "text": [
            "(32, 224, 224, 3)\n"
          ],
          "name": "stdout"
        }
      ]
    },
    {
      "cell_type": "markdown",
      "metadata": {
        "id": "lJxTOfXY-HE7"
      },
      "source": [
        "## Define and Configure the Model\n",
        "\n",
        "As with other strategies, setting up the model requires minimal code changes. Let's first define a utility function to build and compile the model."
      ]
    },
    {
      "cell_type": "code",
      "metadata": {
        "id": "Wx8MEwUl1300"
      },
      "source": [
        "# tells if we want to freeze the layer weights of our feature extractor during training\n",
        "do_fine_tuning = False"
      ],
      "execution_count": 8,
      "outputs": []
    },
    {
      "cell_type": "code",
      "metadata": {
        "id": "WKLytydu1_qt"
      },
      "source": [
        "def build_and_compile_model():\n",
        "    print(\"Building model with\", MODULE_HANDLE)\n",
        "\n",
        "    # configures the feature extractor fetched from TF Hub\n",
        "    feature_extractor = hub.KerasLayer(MODULE_HANDLE,\n",
        "                                   input_shape=IMAGE_SIZE + (3,), \n",
        "                                   trainable=do_fine_tuning)\n",
        "\n",
        "    # define the model\n",
        "    model = tf.keras.Sequential([\n",
        "      feature_extractor,\n",
        "      # append a dense with softmax for the number of classes\n",
        "      tf.keras.layers.Dense(num_classes, activation='softmax')\n",
        "    ])\n",
        "\n",
        "    # display summary\n",
        "    model.summary()\n",
        "\n",
        "    # configure the optimizer, loss and metrics\n",
        "    optimizer = tf.keras.optimizers.SGD(lr=0.002, momentum=0.9) if do_fine_tuning else 'adam'\n",
        "    model.compile(optimizer=optimizer,\n",
        "                loss='sparse_categorical_crossentropy',\n",
        "                metrics=['accuracy'])\n",
        "\n",
        "    return model"
      ],
      "execution_count": 9,
      "outputs": []
    },
    {
      "cell_type": "markdown",
      "metadata": {
        "id": "av78r4gT-HE9"
      },
      "source": [
        "You can now call the function under the strategy scope. This places variables and computations on the device you specified earlier."
      ]
    },
    {
      "cell_type": "code",
      "metadata": {
        "id": "sDenpJX-2EhD",
        "colab": {
          "base_uri": "https://localhost:8080/"
        },
        "outputId": "0fadb5a1-d194-4aba-9a25-d3bc430f5d71"
      },
      "source": [
        "# build and compile under the strategy scope\n",
        "with one_strategy.scope():\n",
        "    model = build_and_compile_model()"
      ],
      "execution_count": 10,
      "outputs": [
        {
          "output_type": "stream",
          "text": [
            "Building model with https://tfhub.dev/tensorflow/resnet_50/feature_vector/1\n",
            "Model: \"sequential\"\n",
            "_________________________________________________________________\n",
            "Layer (type)                 Output Shape              Param #   \n",
            "=================================================================\n",
            "keras_layer (KerasLayer)     (None, 2048)              23561152  \n",
            "_________________________________________________________________\n",
            "dense (Dense)                (None, 2)                 4098      \n",
            "=================================================================\n",
            "Total params: 23,565,250\n",
            "Trainable params: 4,098\n",
            "Non-trainable params: 23,561,152\n",
            "_________________________________________________________________\n"
          ],
          "name": "stdout"
        }
      ]
    },
    {
      "cell_type": "markdown",
      "metadata": {
        "id": "d196a78x-HE-"
      },
      "source": [
        "`model.fit()` can be run as usual."
      ]
    },
    {
      "cell_type": "code",
      "metadata": {
        "id": "7L4C5KKs3fal",
        "colab": {
          "base_uri": "https://localhost:8080/"
        },
        "outputId": "e748bca9-6063-41fb-8d69-75268b9b738f"
      },
      "source": [
        "EPOCHS = 5\n",
        "hist = model.fit(train_batches,\n",
        "                 epochs=EPOCHS,\n",
        "                 validation_data=validation_batches)"
      ],
      "execution_count": 11,
      "outputs": [
        {
          "output_type": "stream",
          "text": [
            "Epoch 1/5\n",
            "582/582 [==============================] - 189s 258ms/step - loss: 0.0371 - accuracy: 0.9862 - val_loss: 0.0277 - val_accuracy: 0.9914\n",
            "Epoch 2/5\n",
            "582/582 [==============================] - 151s 252ms/step - loss: 0.0197 - accuracy: 0.9934 - val_loss: 0.0296 - val_accuracy: 0.9936\n",
            "Epoch 3/5\n",
            "582/582 [==============================] - 152s 253ms/step - loss: 0.0156 - accuracy: 0.9951 - val_loss: 0.0313 - val_accuracy: 0.9923\n",
            "Epoch 4/5\n",
            "582/582 [==============================] - 151s 252ms/step - loss: 0.0123 - accuracy: 0.9961 - val_loss: 0.0349 - val_accuracy: 0.9910\n",
            "Epoch 5/5\n",
            "582/582 [==============================] - 152s 253ms/step - loss: 0.0096 - accuracy: 0.9967 - val_loss: 0.0299 - val_accuracy: 0.9914\n"
          ],
          "name": "stdout"
        }
      ]
    },
    {
      "cell_type": "markdown",
      "metadata": {
        "id": "lv3XyvHB-HE-"
      },
      "source": [
        "Once everything is working correctly, you can switch to a different device or a different strategy that distributes to multiple devices."
      ]
    }
  ]
}